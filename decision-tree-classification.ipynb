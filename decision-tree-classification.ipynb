{
 "cells": [
  {
   "cell_type": "markdown",
   "id": "ae883302",
   "metadata": {
    "papermill": {
     "duration": 0.001694,
     "end_time": "2025-02-11T09:46:54.628049",
     "exception": false,
     "start_time": "2025-02-11T09:46:54.626355",
     "status": "completed"
    },
    "tags": []
   },
   "source": [
    "# Importing library"
   ]
  },
  {
   "cell_type": "code",
   "execution_count": 1,
   "id": "64db723e",
   "metadata": {
    "execution": {
     "iopub.execute_input": "2025-02-11T09:46:54.631871Z",
     "iopub.status.busy": "2025-02-11T09:46:54.631566Z",
     "iopub.status.idle": "2025-02-11T09:46:58.551680Z",
     "shell.execute_reply": "2025-02-11T09:46:58.550328Z"
    },
    "papermill": {
     "duration": 3.924267,
     "end_time": "2025-02-11T09:46:58.553740",
     "exception": false,
     "start_time": "2025-02-11T09:46:54.629473",
     "status": "completed"
    },
    "tags": []
   },
   "outputs": [],
   "source": [
    "import matplotlib\n",
    "import numpy as np\n",
    "import matplotlib.pyplot as plt\n",
    "import pandas as pd\n",
    "import seaborn as sns\n",
    "from sklearn.model_selection import train_test_split\n",
    "from sklearn.linear_model import LinearRegression\n",
    "from sklearn import metrics\n",
    "from sklearn.preprocessing import PolynomialFeatures"
   ]
  },
  {
   "cell_type": "markdown",
   "id": "9cb12f62",
   "metadata": {
    "papermill": {
     "duration": 0.001039,
     "end_time": "2025-02-11T09:46:58.556356",
     "exception": false,
     "start_time": "2025-02-11T09:46:58.555317",
     "status": "completed"
    },
    "tags": []
   },
   "source": [
    "# Importing the dataset"
   ]
  }
 ],
 "metadata": {
  "kaggle": {
   "accelerator": "none",
   "dataSources": [
    {
     "datasetId": 1846,
     "sourceId": 3197,
     "sourceType": "datasetVersion"
    }
   ],
   "isGpuEnabled": false,
   "isInternetEnabled": false,
   "language": "python",
   "sourceType": "notebook"
  },
  "kernelspec": {
   "display_name": "Python 3",
   "language": "python",
   "name": "python3"
  },
  "language_info": {
   "codemirror_mode": {
    "name": "ipython",
    "version": 3
   },
   "file_extension": ".py",
   "mimetype": "text/x-python",
   "name": "python",
   "nbconvert_exporter": "python",
   "pygments_lexer": "ipython3",
   "version": "3.10.12"
  },
  "papermill": {
   "default_parameters": {},
   "duration": 7.013822,
   "end_time": "2025-02-11T09:46:59.278528",
   "environment_variables": {},
   "exception": null,
   "input_path": "__notebook__.ipynb",
   "output_path": "__notebook__.ipynb",
   "parameters": {},
   "start_time": "2025-02-11T09:46:52.264706",
   "version": "2.6.0"
  }
 },
 "nbformat": 4,
 "nbformat_minor": 5
}
