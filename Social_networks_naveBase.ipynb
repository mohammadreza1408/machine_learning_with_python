{
 "cells": [
  {
   "cell_type": "code",
   "execution_count": 1,
   "id": "6d606c59",
   "metadata": {
    "_cell_guid": "b1076dfc-b9ad-4769-8c92-a6c4dae69d19",
    "_uuid": "8f2839f25d086af736a60e9eeb907d3b93b6e0e5",
    "execution": {
     "iopub.execute_input": "2025-02-01T06:50:25.658551Z",
     "iopub.status.busy": "2025-02-01T06:50:25.658065Z",
     "iopub.status.idle": "2025-02-01T06:50:28.607761Z",
     "shell.execute_reply": "2025-02-01T06:50:28.606612Z"
    },
    "papermill": {
     "duration": 2.958621,
     "end_time": "2025-02-01T06:50:28.610130",
     "exception": false,
     "start_time": "2025-02-01T06:50:25.651509",
     "status": "completed"
    },
    "tags": []
   },
   "outputs": [],
   "source": [
    "import matplotlib\n",
    "import numpy as np\n",
    "import matplotlib.pyplot as plt\n",
    "import pandas as pd\n",
    "import seaborn as sns\n",
    "from sklearn.model_selection import train_test_split\n",
    "from sklearn.linear_model import LinearRegression\n",
    "from sklearn import metrics\n",
    "from sklearn.preprocessing import PolynomialFeatures"
   ]
  },
  {
   "cell_type": "code",
   "execution_count": 2,
   "id": "75b0d208",
   "metadata": {
    "execution": {
     "iopub.execute_input": "2025-02-01T06:50:28.621950Z",
     "iopub.status.busy": "2025-02-01T06:50:28.621125Z",
     "iopub.status.idle": "2025-02-01T06:50:28.642205Z",
     "shell.execute_reply": "2025-02-01T06:50:28.641377Z"
    },
    "papermill": {
     "duration": 0.028805,
     "end_time": "2025-02-01T06:50:28.643991",
     "exception": false,
     "start_time": "2025-02-01T06:50:28.615186",
     "status": "completed"
    },
    "tags": []
   },
   "outputs": [],
   "source": [
    "social_df= pd.read_csv('/kaggle/input/social/Social_Network_Ads.csv')"
   ]
  },
  {
   "cell_type": "code",
   "execution_count": 3,
   "id": "3bcab18f",
   "metadata": {
    "execution": {
     "iopub.execute_input": "2025-02-01T06:50:28.654744Z",
     "iopub.status.busy": "2025-02-01T06:50:28.654340Z",
     "iopub.status.idle": "2025-02-01T06:50:28.679303Z",
     "shell.execute_reply": "2025-02-01T06:50:28.678235Z"
    },
    "papermill": {
     "duration": 0.032356,
     "end_time": "2025-02-01T06:50:28.681152",
     "exception": false,
     "start_time": "2025-02-01T06:50:28.648796",
     "status": "completed"
    },
    "tags": []
   },
   "outputs": [
    {
     "data": {
      "text/plain": [
       "<bound method NDFrame.head of       User ID  Gender  Age  EstimatedSalary  Purchased\n",
       "0    15624510    Male   19            19000          0\n",
       "1    15810944    Male   35            20000          0\n",
       "2    15668575  Female   26            43000          0\n",
       "3    15603246  Female   27            57000          0\n",
       "4    15804002    Male   19            76000          0\n",
       "..        ...     ...  ...              ...        ...\n",
       "395  15691863  Female   46            41000          1\n",
       "396  15706071    Male   51            23000          1\n",
       "397  15654296  Female   50            20000          1\n",
       "398  15755018    Male   36            33000          0\n",
       "399  15594041  Female   49            36000          1\n",
       "\n",
       "[400 rows x 5 columns]>"
      ]
     },
     "execution_count": 3,
     "metadata": {},
     "output_type": "execute_result"
    }
   ],
   "source": [
    "social_df.head"
   ]
  },
  {
   "cell_type": "code",
   "execution_count": 4,
   "id": "042735e7",
   "metadata": {
    "execution": {
     "iopub.execute_input": "2025-02-01T06:50:28.692104Z",
     "iopub.status.busy": "2025-02-01T06:50:28.691712Z",
     "iopub.status.idle": "2025-02-01T06:50:28.713508Z",
     "shell.execute_reply": "2025-02-01T06:50:28.712103Z"
    },
    "papermill": {
     "duration": 0.029244,
     "end_time": "2025-02-01T06:50:28.715370",
     "exception": false,
     "start_time": "2025-02-01T06:50:28.686126",
     "status": "completed"
    },
    "tags": []
   },
   "outputs": [
    {
     "name": "stdout",
     "output_type": "stream",
     "text": [
      "<class 'pandas.core.frame.DataFrame'>\n",
      "RangeIndex: 400 entries, 0 to 399\n",
      "Data columns (total 5 columns):\n",
      " #   Column           Non-Null Count  Dtype \n",
      "---  ------           --------------  ----- \n",
      " 0   User ID          400 non-null    int64 \n",
      " 1   Gender           400 non-null    object\n",
      " 2   Age              400 non-null    int64 \n",
      " 3   EstimatedSalary  400 non-null    int64 \n",
      " 4   Purchased        400 non-null    int64 \n",
      "dtypes: int64(4), object(1)\n",
      "memory usage: 15.8+ KB\n"
     ]
    }
   ],
   "source": [
    "social_df.info()"
   ]
  },
  {
   "cell_type": "code",
   "execution_count": 5,
   "id": "a8e80768",
   "metadata": {
    "execution": {
     "iopub.execute_input": "2025-02-01T06:50:28.726670Z",
     "iopub.status.busy": "2025-02-01T06:50:28.726336Z",
     "iopub.status.idle": "2025-02-01T06:50:28.752417Z",
     "shell.execute_reply": "2025-02-01T06:50:28.751356Z"
    },
    "papermill": {
     "duration": 0.033693,
     "end_time": "2025-02-01T06:50:28.754249",
     "exception": false,
     "start_time": "2025-02-01T06:50:28.720556",
     "status": "completed"
    },
    "tags": []
   },
   "outputs": [
    {
     "data": {
      "text/html": [
       "<div>\n",
       "<style scoped>\n",
       "    .dataframe tbody tr th:only-of-type {\n",
       "        vertical-align: middle;\n",
       "    }\n",
       "\n",
       "    .dataframe tbody tr th {\n",
       "        vertical-align: top;\n",
       "    }\n",
       "\n",
       "    .dataframe thead th {\n",
       "        text-align: right;\n",
       "    }\n",
       "</style>\n",
       "<table border=\"1\" class=\"dataframe\">\n",
       "  <thead>\n",
       "    <tr style=\"text-align: right;\">\n",
       "      <th></th>\n",
       "      <th>User ID</th>\n",
       "      <th>Age</th>\n",
       "      <th>EstimatedSalary</th>\n",
       "      <th>Purchased</th>\n",
       "    </tr>\n",
       "  </thead>\n",
       "  <tbody>\n",
       "    <tr>\n",
       "      <th>count</th>\n",
       "      <td>4.000000e+02</td>\n",
       "      <td>400.000000</td>\n",
       "      <td>400.000000</td>\n",
       "      <td>400.000000</td>\n",
       "    </tr>\n",
       "    <tr>\n",
       "      <th>mean</th>\n",
       "      <td>1.569154e+07</td>\n",
       "      <td>37.655000</td>\n",
       "      <td>69742.500000</td>\n",
       "      <td>0.357500</td>\n",
       "    </tr>\n",
       "    <tr>\n",
       "      <th>std</th>\n",
       "      <td>7.165832e+04</td>\n",
       "      <td>10.482877</td>\n",
       "      <td>34096.960282</td>\n",
       "      <td>0.479864</td>\n",
       "    </tr>\n",
       "    <tr>\n",
       "      <th>min</th>\n",
       "      <td>1.556669e+07</td>\n",
       "      <td>18.000000</td>\n",
       "      <td>15000.000000</td>\n",
       "      <td>0.000000</td>\n",
       "    </tr>\n",
       "    <tr>\n",
       "      <th>25%</th>\n",
       "      <td>1.562676e+07</td>\n",
       "      <td>29.750000</td>\n",
       "      <td>43000.000000</td>\n",
       "      <td>0.000000</td>\n",
       "    </tr>\n",
       "    <tr>\n",
       "      <th>50%</th>\n",
       "      <td>1.569434e+07</td>\n",
       "      <td>37.000000</td>\n",
       "      <td>70000.000000</td>\n",
       "      <td>0.000000</td>\n",
       "    </tr>\n",
       "    <tr>\n",
       "      <th>75%</th>\n",
       "      <td>1.575036e+07</td>\n",
       "      <td>46.000000</td>\n",
       "      <td>88000.000000</td>\n",
       "      <td>1.000000</td>\n",
       "    </tr>\n",
       "    <tr>\n",
       "      <th>max</th>\n",
       "      <td>1.581524e+07</td>\n",
       "      <td>60.000000</td>\n",
       "      <td>150000.000000</td>\n",
       "      <td>1.000000</td>\n",
       "    </tr>\n",
       "  </tbody>\n",
       "</table>\n",
       "</div>"
      ],
      "text/plain": [
       "            User ID         Age  EstimatedSalary   Purchased\n",
       "count  4.000000e+02  400.000000       400.000000  400.000000\n",
       "mean   1.569154e+07   37.655000     69742.500000    0.357500\n",
       "std    7.165832e+04   10.482877     34096.960282    0.479864\n",
       "min    1.556669e+07   18.000000     15000.000000    0.000000\n",
       "25%    1.562676e+07   29.750000     43000.000000    0.000000\n",
       "50%    1.569434e+07   37.000000     70000.000000    0.000000\n",
       "75%    1.575036e+07   46.000000     88000.000000    1.000000\n",
       "max    1.581524e+07   60.000000    150000.000000    1.000000"
      ]
     },
     "execution_count": 5,
     "metadata": {},
     "output_type": "execute_result"
    }
   ],
   "source": [
    "social_df.describe()"
   ]
  },
  {
   "cell_type": "markdown",
   "id": "2b9bec7d",
   "metadata": {
    "papermill": {
     "duration": 0.004678,
     "end_time": "2025-02-01T06:50:28.764027",
     "exception": false,
     "start_time": "2025-02-01T06:50:28.759349",
     "status": "completed"
    },
    "tags": []
   },
   "source": [
    "# X,y Selaction from dataframe"
   ]
  },
  {
   "cell_type": "code",
   "execution_count": 6,
   "id": "2f6f2177",
   "metadata": {
    "execution": {
     "iopub.execute_input": "2025-02-01T06:50:28.775163Z",
     "iopub.status.busy": "2025-02-01T06:50:28.774740Z",
     "iopub.status.idle": "2025-02-01T06:50:28.780145Z",
     "shell.execute_reply": "2025-02-01T06:50:28.778975Z"
    },
    "papermill": {
     "duration": 0.012745,
     "end_time": "2025-02-01T06:50:28.781763",
     "exception": false,
     "start_time": "2025-02-01T06:50:28.769018",
     "status": "completed"
    },
    "tags": []
   },
   "outputs": [],
   "source": [
    "X=social_df.iloc[:,[1,2,3]]\n",
    "Y=social_df.iloc[:, -1]"
   ]
  },
  {
   "cell_type": "code",
   "execution_count": 7,
   "id": "e4c43e2f",
   "metadata": {
    "execution": {
     "iopub.execute_input": "2025-02-01T06:50:28.793005Z",
     "iopub.status.busy": "2025-02-01T06:50:28.792615Z",
     "iopub.status.idle": "2025-02-01T06:50:28.802723Z",
     "shell.execute_reply": "2025-02-01T06:50:28.801804Z"
    },
    "papermill": {
     "duration": 0.017336,
     "end_time": "2025-02-01T06:50:28.804214",
     "exception": false,
     "start_time": "2025-02-01T06:50:28.786878",
     "status": "completed"
    },
    "tags": []
   },
   "outputs": [
    {
     "data": {
      "text/html": [
       "<div>\n",
       "<style scoped>\n",
       "    .dataframe tbody tr th:only-of-type {\n",
       "        vertical-align: middle;\n",
       "    }\n",
       "\n",
       "    .dataframe tbody tr th {\n",
       "        vertical-align: top;\n",
       "    }\n",
       "\n",
       "    .dataframe thead th {\n",
       "        text-align: right;\n",
       "    }\n",
       "</style>\n",
       "<table border=\"1\" class=\"dataframe\">\n",
       "  <thead>\n",
       "    <tr style=\"text-align: right;\">\n",
       "      <th></th>\n",
       "      <th>Gender</th>\n",
       "      <th>Age</th>\n",
       "      <th>EstimatedSalary</th>\n",
       "    </tr>\n",
       "  </thead>\n",
       "  <tbody>\n",
       "    <tr>\n",
       "      <th>0</th>\n",
       "      <td>Male</td>\n",
       "      <td>19</td>\n",
       "      <td>19000</td>\n",
       "    </tr>\n",
       "    <tr>\n",
       "      <th>1</th>\n",
       "      <td>Male</td>\n",
       "      <td>35</td>\n",
       "      <td>20000</td>\n",
       "    </tr>\n",
       "    <tr>\n",
       "      <th>2</th>\n",
       "      <td>Female</td>\n",
       "      <td>26</td>\n",
       "      <td>43000</td>\n",
       "    </tr>\n",
       "    <tr>\n",
       "      <th>3</th>\n",
       "      <td>Female</td>\n",
       "      <td>27</td>\n",
       "      <td>57000</td>\n",
       "    </tr>\n",
       "    <tr>\n",
       "      <th>4</th>\n",
       "      <td>Male</td>\n",
       "      <td>19</td>\n",
       "      <td>76000</td>\n",
       "    </tr>\n",
       "    <tr>\n",
       "      <th>...</th>\n",
       "      <td>...</td>\n",
       "      <td>...</td>\n",
       "      <td>...</td>\n",
       "    </tr>\n",
       "    <tr>\n",
       "      <th>395</th>\n",
       "      <td>Female</td>\n",
       "      <td>46</td>\n",
       "      <td>41000</td>\n",
       "    </tr>\n",
       "    <tr>\n",
       "      <th>396</th>\n",
       "      <td>Male</td>\n",
       "      <td>51</td>\n",
       "      <td>23000</td>\n",
       "    </tr>\n",
       "    <tr>\n",
       "      <th>397</th>\n",
       "      <td>Female</td>\n",
       "      <td>50</td>\n",
       "      <td>20000</td>\n",
       "    </tr>\n",
       "    <tr>\n",
       "      <th>398</th>\n",
       "      <td>Male</td>\n",
       "      <td>36</td>\n",
       "      <td>33000</td>\n",
       "    </tr>\n",
       "    <tr>\n",
       "      <th>399</th>\n",
       "      <td>Female</td>\n",
       "      <td>49</td>\n",
       "      <td>36000</td>\n",
       "    </tr>\n",
       "  </tbody>\n",
       "</table>\n",
       "<p>400 rows × 3 columns</p>\n",
       "</div>"
      ],
      "text/plain": [
       "     Gender  Age  EstimatedSalary\n",
       "0      Male   19            19000\n",
       "1      Male   35            20000\n",
       "2    Female   26            43000\n",
       "3    Female   27            57000\n",
       "4      Male   19            76000\n",
       "..      ...  ...              ...\n",
       "395  Female   46            41000\n",
       "396    Male   51            23000\n",
       "397  Female   50            20000\n",
       "398    Male   36            33000\n",
       "399  Female   49            36000\n",
       "\n",
       "[400 rows x 3 columns]"
      ]
     },
     "execution_count": 7,
     "metadata": {},
     "output_type": "execute_result"
    }
   ],
   "source": [
    "X"
   ]
  },
  {
   "cell_type": "code",
   "execution_count": 8,
   "id": "bba3d9b9",
   "metadata": {
    "execution": {
     "iopub.execute_input": "2025-02-01T06:50:28.816015Z",
     "iopub.status.busy": "2025-02-01T06:50:28.815598Z",
     "iopub.status.idle": "2025-02-01T06:50:28.822442Z",
     "shell.execute_reply": "2025-02-01T06:50:28.821569Z"
    },
    "papermill": {
     "duration": 0.014559,
     "end_time": "2025-02-01T06:50:28.824085",
     "exception": false,
     "start_time": "2025-02-01T06:50:28.809526",
     "status": "completed"
    },
    "tags": []
   },
   "outputs": [
    {
     "data": {
      "text/plain": [
       "0      0\n",
       "1      0\n",
       "2      0\n",
       "3      0\n",
       "4      0\n",
       "      ..\n",
       "395    1\n",
       "396    1\n",
       "397    1\n",
       "398    0\n",
       "399    1\n",
       "Name: Purchased, Length: 400, dtype: int64"
      ]
     },
     "execution_count": 8,
     "metadata": {},
     "output_type": "execute_result"
    }
   ],
   "source": [
    "Y"
   ]
  },
  {
   "cell_type": "code",
   "execution_count": 9,
   "id": "c15af6f4",
   "metadata": {
    "execution": {
     "iopub.execute_input": "2025-02-01T06:50:28.836233Z",
     "iopub.status.busy": "2025-02-01T06:50:28.835877Z",
     "iopub.status.idle": "2025-02-01T06:50:28.840925Z",
     "shell.execute_reply": "2025-02-01T06:50:28.840000Z"
    },
    "papermill": {
     "duration": 0.013022,
     "end_time": "2025-02-01T06:50:28.842512",
     "exception": false,
     "start_time": "2025-02-01T06:50:28.829490",
     "status": "completed"
    },
    "tags": []
   },
   "outputs": [],
   "source": [
    "from sklearn.preprocessing import LabelEncoder\n",
    "le=LabelEncoder()\n",
    "X.loc[:,'Gender']=le.fit_transform(X['Gender'])"
   ]
  },
  {
   "cell_type": "code",
   "execution_count": 10,
   "id": "0fcb6f9d",
   "metadata": {
    "execution": {
     "iopub.execute_input": "2025-02-01T06:50:28.854373Z",
     "iopub.status.busy": "2025-02-01T06:50:28.854023Z",
     "iopub.status.idle": "2025-02-01T06:50:28.863703Z",
     "shell.execute_reply": "2025-02-01T06:50:28.862818Z"
    },
    "papermill": {
     "duration": 0.017382,
     "end_time": "2025-02-01T06:50:28.865198",
     "exception": false,
     "start_time": "2025-02-01T06:50:28.847816",
     "status": "completed"
    },
    "tags": []
   },
   "outputs": [
    {
     "data": {
      "text/html": [
       "<div>\n",
       "<style scoped>\n",
       "    .dataframe tbody tr th:only-of-type {\n",
       "        vertical-align: middle;\n",
       "    }\n",
       "\n",
       "    .dataframe tbody tr th {\n",
       "        vertical-align: top;\n",
       "    }\n",
       "\n",
       "    .dataframe thead th {\n",
       "        text-align: right;\n",
       "    }\n",
       "</style>\n",
       "<table border=\"1\" class=\"dataframe\">\n",
       "  <thead>\n",
       "    <tr style=\"text-align: right;\">\n",
       "      <th></th>\n",
       "      <th>Gender</th>\n",
       "      <th>Age</th>\n",
       "      <th>EstimatedSalary</th>\n",
       "    </tr>\n",
       "  </thead>\n",
       "  <tbody>\n",
       "    <tr>\n",
       "      <th>0</th>\n",
       "      <td>1</td>\n",
       "      <td>19</td>\n",
       "      <td>19000</td>\n",
       "    </tr>\n",
       "    <tr>\n",
       "      <th>1</th>\n",
       "      <td>1</td>\n",
       "      <td>35</td>\n",
       "      <td>20000</td>\n",
       "    </tr>\n",
       "    <tr>\n",
       "      <th>2</th>\n",
       "      <td>0</td>\n",
       "      <td>26</td>\n",
       "      <td>43000</td>\n",
       "    </tr>\n",
       "    <tr>\n",
       "      <th>3</th>\n",
       "      <td>0</td>\n",
       "      <td>27</td>\n",
       "      <td>57000</td>\n",
       "    </tr>\n",
       "    <tr>\n",
       "      <th>4</th>\n",
       "      <td>1</td>\n",
       "      <td>19</td>\n",
       "      <td>76000</td>\n",
       "    </tr>\n",
       "    <tr>\n",
       "      <th>...</th>\n",
       "      <td>...</td>\n",
       "      <td>...</td>\n",
       "      <td>...</td>\n",
       "    </tr>\n",
       "    <tr>\n",
       "      <th>395</th>\n",
       "      <td>0</td>\n",
       "      <td>46</td>\n",
       "      <td>41000</td>\n",
       "    </tr>\n",
       "    <tr>\n",
       "      <th>396</th>\n",
       "      <td>1</td>\n",
       "      <td>51</td>\n",
       "      <td>23000</td>\n",
       "    </tr>\n",
       "    <tr>\n",
       "      <th>397</th>\n",
       "      <td>0</td>\n",
       "      <td>50</td>\n",
       "      <td>20000</td>\n",
       "    </tr>\n",
       "    <tr>\n",
       "      <th>398</th>\n",
       "      <td>1</td>\n",
       "      <td>36</td>\n",
       "      <td>33000</td>\n",
       "    </tr>\n",
       "    <tr>\n",
       "      <th>399</th>\n",
       "      <td>0</td>\n",
       "      <td>49</td>\n",
       "      <td>36000</td>\n",
       "    </tr>\n",
       "  </tbody>\n",
       "</table>\n",
       "<p>400 rows × 3 columns</p>\n",
       "</div>"
      ],
      "text/plain": [
       "    Gender  Age  EstimatedSalary\n",
       "0        1   19            19000\n",
       "1        1   35            20000\n",
       "2        0   26            43000\n",
       "3        0   27            57000\n",
       "4        1   19            76000\n",
       "..     ...  ...              ...\n",
       "395      0   46            41000\n",
       "396      1   51            23000\n",
       "397      0   50            20000\n",
       "398      1   36            33000\n",
       "399      0   49            36000\n",
       "\n",
       "[400 rows x 3 columns]"
      ]
     },
     "execution_count": 10,
     "metadata": {},
     "output_type": "execute_result"
    }
   ],
   "source": [
    "X"
   ]
  },
  {
   "cell_type": "code",
   "execution_count": 11,
   "id": "fc6af47a",
   "metadata": {
    "execution": {
     "iopub.execute_input": "2025-02-01T06:50:28.877501Z",
     "iopub.status.busy": "2025-02-01T06:50:28.877149Z",
     "iopub.status.idle": "2025-02-01T06:50:28.883671Z",
     "shell.execute_reply": "2025-02-01T06:50:28.882785Z"
    },
    "papermill": {
     "duration": 0.014515,
     "end_time": "2025-02-01T06:50:28.885315",
     "exception": false,
     "start_time": "2025-02-01T06:50:28.870800",
     "status": "completed"
    },
    "tags": []
   },
   "outputs": [],
   "source": [
    "from sklearn.model_selection import train_test_split\n",
    "X_train,x_test,Y_train,y_test = train_test_split(X,Y,test_size=0.20,random_state=0)"
   ]
  },
  {
   "cell_type": "markdown",
   "id": "a555e746",
   "metadata": {
    "papermill": {
     "duration": 0.005096,
     "end_time": "2025-02-01T06:50:28.896071",
     "exception": false,
     "start_time": "2025-02-01T06:50:28.890975",
     "status": "completed"
    },
    "tags": []
   },
   "source": [
    "# Feature Scaling\n"
   ]
  },
  {
   "cell_type": "code",
   "execution_count": 12,
   "id": "8cdb1731",
   "metadata": {
    "execution": {
     "iopub.execute_input": "2025-02-01T06:50:28.908705Z",
     "iopub.status.busy": "2025-02-01T06:50:28.908314Z",
     "iopub.status.idle": "2025-02-01T06:50:28.918593Z",
     "shell.execute_reply": "2025-02-01T06:50:28.917561Z"
    },
    "papermill": {
     "duration": 0.019084,
     "end_time": "2025-02-01T06:50:28.920350",
     "exception": false,
     "start_time": "2025-02-01T06:50:28.901266",
     "status": "completed"
    },
    "tags": []
   },
   "outputs": [],
   "source": [
    "from sklearn.preprocessing import StandardScaler\n",
    "sc=StandardScaler()\n",
    "X_train=sc.fit_transform(X_train)\n",
    "x_test=sc.transform(x_test)"
   ]
  },
  {
   "cell_type": "code",
   "execution_count": 13,
   "id": "3c03e40e",
   "metadata": {
    "execution": {
     "iopub.execute_input": "2025-02-01T06:50:28.932534Z",
     "iopub.status.busy": "2025-02-01T06:50:28.932188Z",
     "iopub.status.idle": "2025-02-01T06:50:28.938757Z",
     "shell.execute_reply": "2025-02-01T06:50:28.937634Z"
    },
    "papermill": {
     "duration": 0.014525,
     "end_time": "2025-02-01T06:50:28.940395",
     "exception": false,
     "start_time": "2025-02-01T06:50:28.925870",
     "status": "completed"
    },
    "tags": []
   },
   "outputs": [
    {
     "data": {
      "text/plain": [
       "array([1.02532046, 1.92295008, 2.14601566])"
      ]
     },
     "execution_count": 13,
     "metadata": {},
     "output_type": "execute_result"
    }
   ],
   "source": [
    "X_train[0]"
   ]
  },
  {
   "cell_type": "markdown",
   "id": "0e4fe621",
   "metadata": {
    "papermill": {
     "duration": 0.005131,
     "end_time": "2025-02-01T06:50:28.951269",
     "exception": false,
     "start_time": "2025-02-01T06:50:28.946138",
     "status": "completed"
    },
    "tags": []
   },
   "source": [
    "# Training Model"
   ]
  },
  {
   "cell_type": "code",
   "execution_count": 14,
   "id": "298cd274",
   "metadata": {
    "execution": {
     "iopub.execute_input": "2025-02-01T06:50:28.963365Z",
     "iopub.status.busy": "2025-02-01T06:50:28.962993Z",
     "iopub.status.idle": "2025-02-01T06:50:28.984253Z",
     "shell.execute_reply": "2025-02-01T06:50:28.983174Z"
    },
    "papermill": {
     "duration": 0.029188,
     "end_time": "2025-02-01T06:50:28.985970",
     "exception": false,
     "start_time": "2025-02-01T06:50:28.956782",
     "status": "completed"
    },
    "tags": []
   },
   "outputs": [
    {
     "data": {
      "text/html": [
       "<style>#sk-container-id-1 {color: black;background-color: white;}#sk-container-id-1 pre{padding: 0;}#sk-container-id-1 div.sk-toggleable {background-color: white;}#sk-container-id-1 label.sk-toggleable__label {cursor: pointer;display: block;width: 100%;margin-bottom: 0;padding: 0.3em;box-sizing: border-box;text-align: center;}#sk-container-id-1 label.sk-toggleable__label-arrow:before {content: \"▸\";float: left;margin-right: 0.25em;color: #696969;}#sk-container-id-1 label.sk-toggleable__label-arrow:hover:before {color: black;}#sk-container-id-1 div.sk-estimator:hover label.sk-toggleable__label-arrow:before {color: black;}#sk-container-id-1 div.sk-toggleable__content {max-height: 0;max-width: 0;overflow: hidden;text-align: left;background-color: #f0f8ff;}#sk-container-id-1 div.sk-toggleable__content pre {margin: 0.2em;color: black;border-radius: 0.25em;background-color: #f0f8ff;}#sk-container-id-1 input.sk-toggleable__control:checked~div.sk-toggleable__content {max-height: 200px;max-width: 100%;overflow: auto;}#sk-container-id-1 input.sk-toggleable__control:checked~label.sk-toggleable__label-arrow:before {content: \"▾\";}#sk-container-id-1 div.sk-estimator input.sk-toggleable__control:checked~label.sk-toggleable__label {background-color: #d4ebff;}#sk-container-id-1 div.sk-label input.sk-toggleable__control:checked~label.sk-toggleable__label {background-color: #d4ebff;}#sk-container-id-1 input.sk-hidden--visually {border: 0;clip: rect(1px 1px 1px 1px);clip: rect(1px, 1px, 1px, 1px);height: 1px;margin: -1px;overflow: hidden;padding: 0;position: absolute;width: 1px;}#sk-container-id-1 div.sk-estimator {font-family: monospace;background-color: #f0f8ff;border: 1px dotted black;border-radius: 0.25em;box-sizing: border-box;margin-bottom: 0.5em;}#sk-container-id-1 div.sk-estimator:hover {background-color: #d4ebff;}#sk-container-id-1 div.sk-parallel-item::after {content: \"\";width: 100%;border-bottom: 1px solid gray;flex-grow: 1;}#sk-container-id-1 div.sk-label:hover label.sk-toggleable__label {background-color: #d4ebff;}#sk-container-id-1 div.sk-serial::before {content: \"\";position: absolute;border-left: 1px solid gray;box-sizing: border-box;top: 0;bottom: 0;left: 50%;z-index: 0;}#sk-container-id-1 div.sk-serial {display: flex;flex-direction: column;align-items: center;background-color: white;padding-right: 0.2em;padding-left: 0.2em;position: relative;}#sk-container-id-1 div.sk-item {position: relative;z-index: 1;}#sk-container-id-1 div.sk-parallel {display: flex;align-items: stretch;justify-content: center;background-color: white;position: relative;}#sk-container-id-1 div.sk-item::before, #sk-container-id-1 div.sk-parallel-item::before {content: \"\";position: absolute;border-left: 1px solid gray;box-sizing: border-box;top: 0;bottom: 0;left: 50%;z-index: -1;}#sk-container-id-1 div.sk-parallel-item {display: flex;flex-direction: column;z-index: 1;position: relative;background-color: white;}#sk-container-id-1 div.sk-parallel-item:first-child::after {align-self: flex-end;width: 50%;}#sk-container-id-1 div.sk-parallel-item:last-child::after {align-self: flex-start;width: 50%;}#sk-container-id-1 div.sk-parallel-item:only-child::after {width: 0;}#sk-container-id-1 div.sk-dashed-wrapped {border: 1px dashed gray;margin: 0 0.4em 0.5em 0.4em;box-sizing: border-box;padding-bottom: 0.4em;background-color: white;}#sk-container-id-1 div.sk-label label {font-family: monospace;font-weight: bold;display: inline-block;line-height: 1.2em;}#sk-container-id-1 div.sk-label-container {text-align: center;}#sk-container-id-1 div.sk-container {/* jupyter's `normalize.less` sets `[hidden] { display: none; }` but bootstrap.min.css set `[hidden] { display: none !important; }` so we also need the `!important` here to be able to override the default hidden behavior on the sphinx rendered scikit-learn.org. See: https://github.com/scikit-learn/scikit-learn/issues/21755 */display: inline-block !important;position: relative;}#sk-container-id-1 div.sk-text-repr-fallback {display: none;}</style><div id=\"sk-container-id-1\" class=\"sk-top-container\"><div class=\"sk-text-repr-fallback\"><pre>GaussianNB()</pre><b>In a Jupyter environment, please rerun this cell to show the HTML representation or trust the notebook. <br />On GitHub, the HTML representation is unable to render, please try loading this page with nbviewer.org.</b></div><div class=\"sk-container\" hidden><div class=\"sk-item\"><div class=\"sk-estimator sk-toggleable\"><input class=\"sk-toggleable__control sk-hidden--visually\" id=\"sk-estimator-id-1\" type=\"checkbox\" checked><label for=\"sk-estimator-id-1\" class=\"sk-toggleable__label sk-toggleable__label-arrow\">GaussianNB</label><div class=\"sk-toggleable__content\"><pre>GaussianNB()</pre></div></div></div></div></div>"
      ],
      "text/plain": [
       "GaussianNB()"
      ]
     },
     "execution_count": 14,
     "metadata": {},
     "output_type": "execute_result"
    }
   ],
   "source": [
    "from sklearn.naive_bayes import GaussianNB\n",
    "classifier = GaussianNB()\n",
    "classifier.fit(X_train, Y_train)"
   ]
  },
  {
   "cell_type": "code",
   "execution_count": 15,
   "id": "4825fec2",
   "metadata": {
    "execution": {
     "iopub.execute_input": "2025-02-01T06:50:28.999402Z",
     "iopub.status.busy": "2025-02-01T06:50:28.999075Z",
     "iopub.status.idle": "2025-02-01T06:50:29.005668Z",
     "shell.execute_reply": "2025-02-01T06:50:29.004864Z"
    },
    "papermill": {
     "duration": 0.015635,
     "end_time": "2025-02-01T06:50:29.007351",
     "exception": false,
     "start_time": "2025-02-01T06:50:28.991716",
     "status": "completed"
    },
    "tags": []
   },
   "outputs": [],
   "source": [
    "y_pred=classifier.predict(x_test)"
   ]
  },
  {
   "cell_type": "code",
   "execution_count": 16,
   "id": "cd5e9664",
   "metadata": {
    "execution": {
     "iopub.execute_input": "2025-02-01T06:50:29.020367Z",
     "iopub.status.busy": "2025-02-01T06:50:29.020040Z",
     "iopub.status.idle": "2025-02-01T06:50:29.025866Z",
     "shell.execute_reply": "2025-02-01T06:50:29.024937Z"
    },
    "papermill": {
     "duration": 0.014097,
     "end_time": "2025-02-01T06:50:29.027448",
     "exception": false,
     "start_time": "2025-02-01T06:50:29.013351",
     "status": "completed"
    },
    "tags": []
   },
   "outputs": [
    {
     "data": {
      "text/plain": [
       "array([0, 0, 0, 0, 0, 0, 0, 1, 0, 0, 0, 0, 0, 0, 0, 1, 0, 0, 1, 0, 0, 1,\n",
       "       0, 1, 0, 1, 0, 0, 0, 0, 0, 0, 1, 0, 0, 0, 0, 0, 0, 1, 0, 0, 0, 0,\n",
       "       1, 0, 0, 1, 0, 1, 1, 0, 0, 1, 1, 0, 0, 0, 1, 0, 0, 1, 0, 0, 0, 1,\n",
       "       0, 0, 0, 0, 1, 0, 0, 0, 0, 0, 0, 0, 1, 1])"
      ]
     },
     "execution_count": 16,
     "metadata": {},
     "output_type": "execute_result"
    }
   ],
   "source": [
    "y_pred"
   ]
  },
  {
   "cell_type": "code",
   "execution_count": 17,
   "id": "f68d52a4",
   "metadata": {
    "execution": {
     "iopub.execute_input": "2025-02-01T06:50:29.040621Z",
     "iopub.status.busy": "2025-02-01T06:50:29.040292Z",
     "iopub.status.idle": "2025-02-01T06:50:29.046534Z",
     "shell.execute_reply": "2025-02-01T06:50:29.045423Z"
    },
    "papermill": {
     "duration": 0.014874,
     "end_time": "2025-02-01T06:50:29.048343",
     "exception": false,
     "start_time": "2025-02-01T06:50:29.033469",
     "status": "completed"
    },
    "tags": []
   },
   "outputs": [
    {
     "name": "stdout",
     "output_type": "stream",
     "text": [
      "[[56  2]\n",
      " [ 4 18]]\n"
     ]
    }
   ],
   "source": [
    "from sklearn.metrics import confusion_matrix,accuracy_score\n",
    "cm = confusion_matrix(y_test,y_pred)\n",
    "print(cm)"
   ]
  },
  {
   "cell_type": "code",
   "execution_count": 18,
   "id": "d822f8e2",
   "metadata": {
    "execution": {
     "iopub.execute_input": "2025-02-01T06:50:29.061703Z",
     "iopub.status.busy": "2025-02-01T06:50:29.061358Z",
     "iopub.status.idle": "2025-02-01T06:50:29.356003Z",
     "shell.execute_reply": "2025-02-01T06:50:29.354891Z"
    },
    "papermill": {
     "duration": 0.303305,
     "end_time": "2025-02-01T06:50:29.357759",
     "exception": false,
     "start_time": "2025-02-01T06:50:29.054454",
     "status": "completed"
    },
    "tags": []
   },
   "outputs": [
    {
     "data": {
      "text/plain": [
       "<Axes: >"
      ]
     },
     "execution_count": 18,
     "metadata": {},
     "output_type": "execute_result"
    },
    {
     "data": {
      "image/png": "[encoded data removed]",
      "text/plain": [
       "<Figure size 640x480 with 2 Axes>"
      ]
     },
     "metadata": {},
     "output_type": "display_data"
    }
   ],
   "source": [
    "sns.heatmap(cm,annot=True)"
   ]
  },
  {
   "cell_type": "code",
   "execution_count": 19,
   "id": "8617200c",
   "metadata": {
    "execution": {
     "iopub.execute_input": "2025-02-01T06:50:29.372194Z",
     "iopub.status.busy": "2025-02-01T06:50:29.371755Z",
     "iopub.status.idle": "2025-02-01T06:50:29.378929Z",
     "shell.execute_reply": "2025-02-01T06:50:29.377959Z"
    },
    "papermill": {
     "duration": 0.01582,
     "end_time": "2025-02-01T06:50:29.380482",
     "exception": false,
     "start_time": "2025-02-01T06:50:29.364662",
     "status": "completed"
    },
    "tags": []
   },
   "outputs": [
    {
     "data": {
      "text/plain": [
       "0.925"
      ]
     },
     "execution_count": 19,
     "metadata": {},
     "output_type": "execute_result"
    }
   ],
   "source": [
    "ac= accuracy_score(y_test,y_pred)\n",
    "ac"
   ]
  }
 ],
 "metadata": {
  "kaggle": {
   "accelerator": "none",
   "dataSources": [
    {
     "datasetId": 6583068,
     "sourceId": 10632870,
     "sourceType": "datasetVersion"
    }
   ],
   "dockerImageVersionId": 30839,
   "isGpuEnabled": false,
   "isInternetEnabled": false,
   "language": "python",
   "sourceType": "notebook"
  },
  "kernelspec": {
   "display_name": "Python 3",
   "language": "python",
   "name": "python3"
  },
  "language_info": {
   "codemirror_mode": {
    "name": "ipython",
    "version": 3
   },
   "file_extension": ".py",
   "mimetype": "text/x-python",
   "name": "python",
   "nbconvert_exporter": "python",
   "pygments_lexer": "ipython3",
   "version": "3.10.12"
  },
  "papermill": {
   "default_parameters": {},
   "duration": 7.245625,
   "end_time": "2025-02-01T06:50:30.107857",
   "environment_variables": {},
   "exception": null,
   "input_path": "__notebook__.ipynb",
   "output_path": "__notebook__.ipynb",
   "parameters": {},
   "start_time": "2025-02-01T06:50:22.862232",
   "version": "2.6.0"
  }
 },
 "nbformat": 4,
 "nbformat_minor": 5
}
