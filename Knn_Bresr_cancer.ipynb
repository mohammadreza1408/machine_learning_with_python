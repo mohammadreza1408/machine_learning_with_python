{
 "cells": [
  {
   "cell_type": "code",
   "execution_count": 1,
   "id": "a17475a8",
   "metadata": {
    "_cell_guid": "b1076dfc-b9ad-4769-8c92-a6c4dae69d19",
    "_uuid": "8f2839f25d086af736a60e9eeb907d3b93b6e0e5",
    "execution": {
     "iopub.execute_input": "2025-01-30T11:34:12.541036Z",
     "iopub.status.busy": "2025-01-30T11:34:12.540668Z",
     "iopub.status.idle": "2025-01-30T11:34:15.487888Z",
     "shell.execute_reply": "2025-01-30T11:34:15.486849Z"
    },
    "papermill": {
     "duration": 2.957628,
     "end_time": "2025-01-30T11:34:15.489934",
     "exception": false,
     "start_time": "2025-01-30T11:34:12.532306",
     "status": "completed"
    },
    "tags": []
   },
   "outputs": [],
   "source": [
    "import matplotlib\n",
    "import numpy as np\n",
    "import matplotlib.pyplot as plt\n",
    "import pandas as pd\n",
    "import seaborn as sns\n",
    "from sklearn.model_selection import train_test_split\n",
    "from sklearn.linear_model import LinearRegression\n",
    "from sklearn import metrics\n",
    "from sklearn.preprocessing import PolynomialFeatures"
   ]
  },
  {
   "cell_type": "code",
   "execution_count": 2,
   "id": "8a90d9f7",
   "metadata": {
    "execution": {
     "iopub.execute_input": "2025-01-30T11:34:15.502013Z",
     "iopub.status.busy": "2025-01-30T11:34:15.501527Z",
     "iopub.status.idle": "2025-01-30T11:34:15.618682Z",
     "shell.execute_reply": "2025-01-30T11:34:15.617803Z"
    },
    "papermill": {
     "duration": 0.125047,
     "end_time": "2025-01-30T11:34:15.620506",
     "exception": false,
     "start_time": "2025-01-30T11:34:15.495459",
     "status": "completed"
    },
    "tags": []
   },
   "outputs": [],
   "source": [
    "# brest_cancer_df= pd.read_csv('/kaggle/input/brest-cancer/breast-cancer.csv')\n",
    "from sklearn.datasets import load_breast_cancer\n",
    "cancer=load_breast_cancer()"
   ]
  },
  {
   "cell_type": "code",
   "execution_count": 3,
   "id": "16fb0663",
   "metadata": {
    "execution": {
     "iopub.execute_input": "2025-01-30T11:34:15.633801Z",
     "iopub.status.busy": "2025-01-30T11:34:15.633462Z",
     "iopub.status.idle": "2025-01-30T11:34:15.639724Z",
     "shell.execute_reply": "2025-01-30T11:34:15.638670Z"
    },
    "papermill": {
     "duration": 0.014072,
     "end_time": "2025-01-30T11:34:15.641288",
     "exception": false,
     "start_time": "2025-01-30T11:34:15.627216",
     "status": "completed"
    },
    "tags": []
   },
   "outputs": [
    {
     "data": {
      "text/plain": [
       "(569, 30)"
      ]
     },
     "execution_count": 3,
     "metadata": {},
     "output_type": "execute_result"
    }
   ],
   "source": [
    "cancer.data.shape"
   ]
  },
  {
   "cell_type": "code",
   "execution_count": 4,
   "id": "e5e002a7",
   "metadata": {
    "execution": {
     "iopub.execute_input": "2025-01-30T11:34:15.653675Z",
     "iopub.status.busy": "2025-01-30T11:34:15.653306Z",
     "iopub.status.idle": "2025-01-30T11:34:15.658558Z",
     "shell.execute_reply": "2025-01-30T11:34:15.657445Z"
    },
    "papermill": {
     "duration": 0.013312,
     "end_time": "2025-01-30T11:34:15.660254",
     "exception": false,
     "start_time": "2025-01-30T11:34:15.646942",
     "status": "completed"
    },
    "tags": []
   },
   "outputs": [
    {
     "name": "stdout",
     "output_type": "stream",
     "text": [
      "['mean radius' 'mean texture' 'mean perimeter' 'mean area'\n",
      " 'mean smoothness' 'mean compactness' 'mean concavity'\n",
      " 'mean concave points' 'mean symmetry' 'mean fractal dimension'\n",
      " 'radius error' 'texture error' 'perimeter error' 'area error'\n",
      " 'smoothness error' 'compactness error' 'concavity error'\n",
      " 'concave points error' 'symmetry error' 'fractal dimension error'\n",
      " 'worst radius' 'worst texture' 'worst perimeter' 'worst area'\n",
      " 'worst smoothness' 'worst compactness' 'worst concavity'\n",
      " 'worst concave points' 'worst symmetry' 'worst fractal dimension']\n"
     ]
    }
   ],
   "source": [
    "print(cancer.feature_names)"
   ]
  },
  {
   "cell_type": "code",
   "execution_count": 5,
   "id": "000c7810",
   "metadata": {
    "execution": {
     "iopub.execute_input": "2025-01-30T11:34:15.672677Z",
     "iopub.status.busy": "2025-01-30T11:34:15.672343Z",
     "iopub.status.idle": "2025-01-30T11:34:15.677546Z",
     "shell.execute_reply": "2025-01-30T11:34:15.676452Z"
    },
    "papermill": {
     "duration": 0.013283,
     "end_time": "2025-01-30T11:34:15.679208",
     "exception": false,
     "start_time": "2025-01-30T11:34:15.665925",
     "status": "completed"
    },
    "tags": []
   },
   "outputs": [
    {
     "name": "stdout",
     "output_type": "stream",
     "text": [
      "['malignant' 'benign']\n"
     ]
    }
   ],
   "source": [
    "print(cancer.target_names)"
   ]
  },
  {
   "cell_type": "code",
   "execution_count": 6,
   "id": "b0523eff",
   "metadata": {
    "execution": {
     "iopub.execute_input": "2025-01-30T11:34:15.691471Z",
     "iopub.status.busy": "2025-01-30T11:34:15.691121Z",
     "iopub.status.idle": "2025-01-30T11:34:15.695064Z",
     "shell.execute_reply": "2025-01-30T11:34:15.694194Z"
    },
    "papermill": {
     "duration": 0.011861,
     "end_time": "2025-01-30T11:34:15.696586",
     "exception": false,
     "start_time": "2025-01-30T11:34:15.684725",
     "status": "completed"
    },
    "tags": []
   },
   "outputs": [],
   "source": [
    "from sklearn.model_selection import train_test_split"
   ]
  },
  {
   "cell_type": "code",
   "execution_count": 7,
   "id": "bec4e9d2",
   "metadata": {
    "execution": {
     "iopub.execute_input": "2025-01-30T11:34:15.708904Z",
     "iopub.status.busy": "2025-01-30T11:34:15.708540Z",
     "iopub.status.idle": "2025-01-30T11:34:15.715383Z",
     "shell.execute_reply": "2025-01-30T11:34:15.714474Z"
    },
    "papermill": {
     "duration": 0.014614,
     "end_time": "2025-01-30T11:34:15.716858",
     "exception": false,
     "start_time": "2025-01-30T11:34:15.702244",
     "status": "completed"
    },
    "tags": []
   },
   "outputs": [],
   "source": [
    "X_train, x_test, Y_train, y_test=train_test_split(cancer.data,cancer.target,random_state=42)"
   ]
  },
  {
   "cell_type": "code",
   "execution_count": 8,
   "id": "016d1391",
   "metadata": {
    "execution": {
     "iopub.execute_input": "2025-01-30T11:34:15.729314Z",
     "iopub.status.busy": "2025-01-30T11:34:15.728939Z",
     "iopub.status.idle": "2025-01-30T11:34:15.734049Z",
     "shell.execute_reply": "2025-01-30T11:34:15.732904Z"
    },
    "papermill": {
     "duration": 0.013325,
     "end_time": "2025-01-30T11:34:15.735809",
     "exception": false,
     "start_time": "2025-01-30T11:34:15.722484",
     "status": "completed"
    },
    "tags": []
   },
   "outputs": [
    {
     "name": "stdout",
     "output_type": "stream",
     "text": [
      "Shape of Train Data :  (426, 30)\n",
      "Shape of Train Data :  (143, 30)\n"
     ]
    }
   ],
   "source": [
    "print(\"Shape of Train Data : \", X_train.shape)\n",
    "print(\"Shape of Train Data : \", x_test.shape)"
   ]
  },
  {
   "cell_type": "code",
   "execution_count": 9,
   "id": "aa25db32",
   "metadata": {
    "execution": {
     "iopub.execute_input": "2025-01-30T11:34:15.747982Z",
     "iopub.status.busy": "2025-01-30T11:34:15.747668Z",
     "iopub.status.idle": "2025-01-30T11:34:15.753012Z",
     "shell.execute_reply": "2025-01-30T11:34:15.752210Z"
    },
    "papermill": {
     "duration": 0.0131,
     "end_time": "2025-01-30T11:34:15.754547",
     "exception": false,
     "start_time": "2025-01-30T11:34:15.741447",
     "status": "completed"
    },
    "tags": []
   },
   "outputs": [
    {
     "data": {
      "text/plain": [
       "(426,)"
      ]
     },
     "execution_count": 9,
     "metadata": {},
     "output_type": "execute_result"
    }
   ],
   "source": [
    "Y_train.shape"
   ]
  },
  {
   "cell_type": "code",
   "execution_count": 10,
   "id": "f0eb7703",
   "metadata": {
    "execution": {
     "iopub.execute_input": "2025-01-30T11:34:15.767146Z",
     "iopub.status.busy": "2025-01-30T11:34:15.766766Z",
     "iopub.status.idle": "2025-01-30T11:34:15.994056Z",
     "shell.execute_reply": "2025-01-30T11:34:15.992987Z"
    },
    "papermill": {
     "duration": 0.235218,
     "end_time": "2025-01-30T11:34:15.995666",
     "exception": false,
     "start_time": "2025-01-30T11:34:15.760448",
     "status": "completed"
    },
    "tags": []
   },
   "outputs": [
    {
     "data": {
      "text/plain": [
       "<Axes: ylabel='count'>"
      ]
     },
     "execution_count": 10,
     "metadata": {},
     "output_type": "execute_result"
    },
    {
     "data": {
      "image/png": "[encoded data removed]",
      "text/plain": [
       "<Figure size 640x480 with 1 Axes>"
      ]
     },
     "metadata": {},
     "output_type": "display_data"
    }
   ],
   "source": [
    "sns.countplot(cancer.target)"
   ]
  },
  {
   "cell_type": "code",
   "execution_count": 11,
   "id": "5aadea3d",
   "metadata": {
    "execution": {
     "iopub.execute_input": "2025-01-30T11:34:16.009082Z",
     "iopub.status.busy": "2025-01-30T11:34:16.008733Z",
     "iopub.status.idle": "2025-01-30T11:34:16.136845Z",
     "shell.execute_reply": "2025-01-30T11:34:16.135878Z"
    },
    "papermill": {
     "duration": 0.136828,
     "end_time": "2025-01-30T11:34:16.138681",
     "exception": false,
     "start_time": "2025-01-30T11:34:16.001853",
     "status": "completed"
    },
    "tags": []
   },
   "outputs": [],
   "source": [
    "from sklearn.neighbors import KNeighborsClassifier"
   ]
  },
  {
   "cell_type": "code",
   "execution_count": 12,
   "id": "004f794d",
   "metadata": {
    "execution": {
     "iopub.execute_input": "2025-01-30T11:34:16.152217Z",
     "iopub.status.busy": "2025-01-30T11:34:16.151853Z",
     "iopub.status.idle": "2025-01-30T11:34:16.155892Z",
     "shell.execute_reply": "2025-01-30T11:34:16.154961Z"
    },
    "papermill": {
     "duration": 0.012623,
     "end_time": "2025-01-30T11:34:16.157631",
     "exception": false,
     "start_time": "2025-01-30T11:34:16.145008",
     "status": "completed"
    },
    "tags": []
   },
   "outputs": [],
   "source": [
    "knn=KNeighborsClassifier()"
   ]
  },
  {
   "cell_type": "code",
   "execution_count": 13,
   "id": "7edf79d5",
   "metadata": {
    "execution": {
     "iopub.execute_input": "2025-01-30T11:34:16.170630Z",
     "iopub.status.busy": "2025-01-30T11:34:16.170256Z",
     "iopub.status.idle": "2025-01-30T11:34:16.183631Z",
     "shell.execute_reply": "2025-01-30T11:34:16.182499Z"
    },
    "papermill": {
     "duration": 0.021762,
     "end_time": "2025-01-30T11:34:16.185361",
     "exception": false,
     "start_time": "2025-01-30T11:34:16.163599",
     "status": "completed"
    },
    "tags": []
   },
   "outputs": [
    {
     "data": {
      "text/html": [
       "<style>#sk-container-id-1 {color: black;background-color: white;}#sk-container-id-1 pre{padding: 0;}#sk-container-id-1 div.sk-toggleable {background-color: white;}#sk-container-id-1 label.sk-toggleable__label {cursor: pointer;display: block;width: 100%;margin-bottom: 0;padding: 0.3em;box-sizing: border-box;text-align: center;}#sk-container-id-1 label.sk-toggleable__label-arrow:before {content: \"▸\";float: left;margin-right: 0.25em;color: #696969;}#sk-container-id-1 label.sk-toggleable__label-arrow:hover:before {color: black;}#sk-container-id-1 div.sk-estimator:hover label.sk-toggleable__label-arrow:before {color: black;}#sk-container-id-1 div.sk-toggleable__content {max-height: 0;max-width: 0;overflow: hidden;text-align: left;background-color: #f0f8ff;}#sk-container-id-1 div.sk-toggleable__content pre {margin: 0.2em;color: black;border-radius: 0.25em;background-color: #f0f8ff;}#sk-container-id-1 input.sk-toggleable__control:checked~div.sk-toggleable__content {max-height: 200px;max-width: 100%;overflow: auto;}#sk-container-id-1 input.sk-toggleable__control:checked~label.sk-toggleable__label-arrow:before {content: \"▾\";}#sk-container-id-1 div.sk-estimator input.sk-toggleable__control:checked~label.sk-toggleable__label {background-color: #d4ebff;}#sk-container-id-1 div.sk-label input.sk-toggleable__control:checked~label.sk-toggleable__label {background-color: #d4ebff;}#sk-container-id-1 input.sk-hidden--visually {border: 0;clip: rect(1px 1px 1px 1px);clip: rect(1px, 1px, 1px, 1px);height: 1px;margin: -1px;overflow: hidden;padding: 0;position: absolute;width: 1px;}#sk-container-id-1 div.sk-estimator {font-family: monospace;background-color: #f0f8ff;border: 1px dotted black;border-radius: 0.25em;box-sizing: border-box;margin-bottom: 0.5em;}#sk-container-id-1 div.sk-estimator:hover {background-color: #d4ebff;}#sk-container-id-1 div.sk-parallel-item::after {content: \"\";width: 100%;border-bottom: 1px solid gray;flex-grow: 1;}#sk-container-id-1 div.sk-label:hover label.sk-toggleable__label {background-color: #d4ebff;}#sk-container-id-1 div.sk-serial::before {content: \"\";position: absolute;border-left: 1px solid gray;box-sizing: border-box;top: 0;bottom: 0;left: 50%;z-index: 0;}#sk-container-id-1 div.sk-serial {display: flex;flex-direction: column;align-items: center;background-color: white;padding-right: 0.2em;padding-left: 0.2em;position: relative;}#sk-container-id-1 div.sk-item {position: relative;z-index: 1;}#sk-container-id-1 div.sk-parallel {display: flex;align-items: stretch;justify-content: center;background-color: white;position: relative;}#sk-container-id-1 div.sk-item::before, #sk-container-id-1 div.sk-parallel-item::before {content: \"\";position: absolute;border-left: 1px solid gray;box-sizing: border-box;top: 0;bottom: 0;left: 50%;z-index: -1;}#sk-container-id-1 div.sk-parallel-item {display: flex;flex-direction: column;z-index: 1;position: relative;background-color: white;}#sk-container-id-1 div.sk-parallel-item:first-child::after {align-self: flex-end;width: 50%;}#sk-container-id-1 div.sk-parallel-item:last-child::after {align-self: flex-start;width: 50%;}#sk-container-id-1 div.sk-parallel-item:only-child::after {width: 0;}#sk-container-id-1 div.sk-dashed-wrapped {border: 1px dashed gray;margin: 0 0.4em 0.5em 0.4em;box-sizing: border-box;padding-bottom: 0.4em;background-color: white;}#sk-container-id-1 div.sk-label label {font-family: monospace;font-weight: bold;display: inline-block;line-height: 1.2em;}#sk-container-id-1 div.sk-label-container {text-align: center;}#sk-container-id-1 div.sk-container {/* jupyter's `normalize.less` sets `[hidden] { display: none; }` but bootstrap.min.css set `[hidden] { display: none !important; }` so we also need the `!important` here to be able to override the default hidden behavior on the sphinx rendered scikit-learn.org. See: https://github.com/scikit-learn/scikit-learn/issues/21755 */display: inline-block !important;position: relative;}#sk-container-id-1 div.sk-text-repr-fallback {display: none;}</style><div id=\"sk-container-id-1\" class=\"sk-top-container\"><div class=\"sk-text-repr-fallback\"><pre>KNeighborsClassifier()</pre><b>In a Jupyter environment, please rerun this cell to show the HTML representation or trust the notebook. <br />On GitHub, the HTML representation is unable to render, please try loading this page with nbviewer.org.</b></div><div class=\"sk-container\" hidden><div class=\"sk-item\"><div class=\"sk-estimator sk-toggleable\"><input class=\"sk-toggleable__control sk-hidden--visually\" id=\"sk-estimator-id-1\" type=\"checkbox\" checked><label for=\"sk-estimator-id-1\" class=\"sk-toggleable__label sk-toggleable__label-arrow\">KNeighborsClassifier</label><div class=\"sk-toggleable__content\"><pre>KNeighborsClassifier()</pre></div></div></div></div></div>"
      ],
      "text/plain": [
       "KNeighborsClassifier()"
      ]
     },
     "execution_count": 13,
     "metadata": {},
     "output_type": "execute_result"
    }
   ],
   "source": [
    "knn.fit(X_train, Y_train)"
   ]
  },
  {
   "cell_type": "code",
   "execution_count": 14,
   "id": "ea6b174c",
   "metadata": {
    "execution": {
     "iopub.execute_input": "2025-01-30T11:34:16.199280Z",
     "iopub.status.busy": "2025-01-30T11:34:16.198908Z",
     "iopub.status.idle": "2025-01-30T11:34:16.255080Z",
     "shell.execute_reply": "2025-01-30T11:34:16.254182Z"
    },
    "papermill": {
     "duration": 0.065066,
     "end_time": "2025-01-30T11:34:16.256910",
     "exception": false,
     "start_time": "2025-01-30T11:34:16.191844",
     "status": "completed"
    },
    "tags": []
   },
   "outputs": [],
   "source": [
    "y_pred=knn.predict(x_test)"
   ]
  },
  {
   "cell_type": "code",
   "execution_count": 15,
   "id": "8a7f30cb",
   "metadata": {
    "execution": {
     "iopub.execute_input": "2025-01-30T11:34:16.270434Z",
     "iopub.status.busy": "2025-01-30T11:34:16.270059Z",
     "iopub.status.idle": "2025-01-30T11:34:16.300471Z",
     "shell.execute_reply": "2025-01-30T11:34:16.299389Z"
    },
    "papermill": {
     "duration": 0.038915,
     "end_time": "2025-01-30T11:34:16.302176",
     "exception": false,
     "start_time": "2025-01-30T11:34:16.263261",
     "status": "completed"
    },
    "tags": []
   },
   "outputs": [
    {
     "data": {
      "text/plain": [
       "0.9342723004694836"
      ]
     },
     "execution_count": 15,
     "metadata": {},
     "output_type": "execute_result"
    }
   ],
   "source": [
    "knn.score(X_train, Y_train)"
   ]
  },
  {
   "cell_type": "code",
   "execution_count": 16,
   "id": "958508e3",
   "metadata": {
    "execution": {
     "iopub.execute_input": "2025-01-30T11:34:16.316170Z",
     "iopub.status.busy": "2025-01-30T11:34:16.315810Z",
     "iopub.status.idle": "2025-01-30T11:34:16.332061Z",
     "shell.execute_reply": "2025-01-30T11:34:16.331061Z"
    },
    "papermill": {
     "duration": 0.02504,
     "end_time": "2025-01-30T11:34:16.333703",
     "exception": false,
     "start_time": "2025-01-30T11:34:16.308663",
     "status": "completed"
    },
    "tags": []
   },
   "outputs": [
    {
     "data": {
      "text/plain": [
       "0.965034965034965"
      ]
     },
     "execution_count": 16,
     "metadata": {},
     "output_type": "execute_result"
    }
   ],
   "source": [
    "knn.score(x_test,y_test)"
   ]
  },
  {
   "cell_type": "code",
   "execution_count": 17,
   "id": "29a569ab",
   "metadata": {
    "execution": {
     "iopub.execute_input": "2025-01-30T11:34:16.347861Z",
     "iopub.status.busy": "2025-01-30T11:34:16.347525Z",
     "iopub.status.idle": "2025-01-30T11:34:16.351708Z",
     "shell.execute_reply": "2025-01-30T11:34:16.350710Z"
    },
    "papermill": {
     "duration": 0.013188,
     "end_time": "2025-01-30T11:34:16.353486",
     "exception": false,
     "start_time": "2025-01-30T11:34:16.340298",
     "status": "completed"
    },
    "tags": []
   },
   "outputs": [],
   "source": [
    "from sklearn.metrics import confusion_matrix\n",
    "from sklearn.metrics import classification_report"
   ]
  },
  {
   "cell_type": "code",
   "execution_count": 18,
   "id": "2afaf037",
   "metadata": {
    "execution": {
     "iopub.execute_input": "2025-01-30T11:34:16.368016Z",
     "iopub.status.busy": "2025-01-30T11:34:16.367642Z",
     "iopub.status.idle": "2025-01-30T11:34:16.379655Z",
     "shell.execute_reply": "2025-01-30T11:34:16.378380Z"
    },
    "papermill": {
     "duration": 0.02089,
     "end_time": "2025-01-30T11:34:16.381234",
     "exception": false,
     "start_time": "2025-01-30T11:34:16.360344",
     "status": "completed"
    },
    "tags": []
   },
   "outputs": [
    {
     "name": "stdout",
     "output_type": "stream",
     "text": [
      "              precision    recall  f1-score   support\n",
      "\n",
      "           0       0.98      0.93      0.95        54\n",
      "           1       0.96      0.99      0.97        89\n",
      "\n",
      "    accuracy                           0.97       143\n",
      "   macro avg       0.97      0.96      0.96       143\n",
      "weighted avg       0.97      0.97      0.96       143\n",
      "\n"
     ]
    }
   ],
   "source": [
    "print(classification_report(y_test,y_pred))"
   ]
  },
  {
   "cell_type": "code",
   "execution_count": 19,
   "id": "d944f336",
   "metadata": {
    "execution": {
     "iopub.execute_input": "2025-01-30T11:34:16.395631Z",
     "iopub.status.busy": "2025-01-30T11:34:16.395301Z",
     "iopub.status.idle": "2025-01-30T11:34:16.610469Z",
     "shell.execute_reply": "2025-01-30T11:34:16.609244Z"
    },
    "papermill": {
     "duration": 0.224082,
     "end_time": "2025-01-30T11:34:16.612374",
     "exception": false,
     "start_time": "2025-01-30T11:34:16.388292",
     "status": "completed"
    },
    "tags": []
   },
   "outputs": [
    {
     "data": {
      "text/plain": [
       "<Axes: >"
      ]
     },
     "execution_count": 19,
     "metadata": {},
     "output_type": "execute_result"
    },
    {
     "data": {
      "image/png": "[encoded data removed]",
      "text/plain": [
       "<Figure size 640x480 with 2 Axes>"
      ]
     },
     "metadata": {},
     "output_type": "display_data"
    }
   ],
   "source": [
    "cm=confusion_matrix(y_test,y_pred)\n",
    "sns.heatmap(cm,square=True, annot=True)"
   ]
  },
  {
   "cell_type": "code",
   "execution_count": 20,
   "id": "9284c11e",
   "metadata": {
    "execution": {
     "iopub.execute_input": "2025-01-30T11:34:16.628859Z",
     "iopub.status.busy": "2025-01-30T11:34:16.628497Z",
     "iopub.status.idle": "2025-01-30T11:34:17.024959Z",
     "shell.execute_reply": "2025-01-30T11:34:17.023897Z"
    },
    "papermill": {
     "duration": 0.407393,
     "end_time": "2025-01-30T11:34:17.026956",
     "exception": false,
     "start_time": "2025-01-30T11:34:16.619563",
     "status": "completed"
    },
    "tags": []
   },
   "outputs": [],
   "source": [
    "error_rate=[]\n",
    "for i in range(1,40):\n",
    "    knn=KNeighborsClassifier(n_neighbors=i)\n",
    "    knn.fit(X_train,Y_train)\n",
    "    pred_i=knn.predict(x_test)\n",
    "    error_rate.append(np.mean(pred_i != y_test))"
   ]
  },
  {
   "cell_type": "code",
   "execution_count": 21,
   "id": "f4eb7c99",
   "metadata": {
    "execution": {
     "iopub.execute_input": "2025-01-30T11:34:17.042132Z",
     "iopub.status.busy": "2025-01-30T11:34:17.041719Z",
     "iopub.status.idle": "2025-01-30T11:34:17.383966Z",
     "shell.execute_reply": "2025-01-30T11:34:17.382989Z"
    },
    "papermill": {
     "duration": 0.351784,
     "end_time": "2025-01-30T11:34:17.385781",
     "exception": false,
     "start_time": "2025-01-30T11:34:17.033997",
     "status": "completed"
    },
    "tags": []
   },
   "outputs": [
    {
     "data": {
      "text/plain": [
       "Text(0, 0.5, 'Error Rate')"
      ]
     },
     "execution_count": 21,
     "metadata": {},
     "output_type": "execute_result"
    },
    {
     "data": {
      "image/png": "[encoded data removed]",
      "text/plain": [
       "<Figure size 1000x600 with 1 Axes>"
      ]
     },
     "metadata": {},
     "output_type": "display_data"
    }
   ],
   "source": [
    "plt.figure(figsize=(10,6))\n",
    "plt.plot(range(1,40),error_rate,color='blue',linestyle='dashed',marker='o'\n",
    "        ,markerfacecolor='red',markersize=10)\n",
    "plt.title('Error Rate vs. k Value')\n",
    "plt.xlabel('K')\n",
    "plt.ylabel('Error Rate')"
   ]
  },
  {
   "cell_type": "code",
   "execution_count": 22,
   "id": "2f383cb4",
   "metadata": {
    "execution": {
     "iopub.execute_input": "2025-01-30T11:34:17.405694Z",
     "iopub.status.busy": "2025-01-30T11:34:17.405338Z",
     "iopub.status.idle": "2025-01-30T11:34:17.409709Z",
     "shell.execute_reply": "2025-01-30T11:34:17.408565Z"
    },
    "papermill": {
     "duration": 0.014716,
     "end_time": "2025-01-30T11:34:17.411393",
     "exception": false,
     "start_time": "2025-01-30T11:34:17.396677",
     "status": "completed"
    },
    "tags": []
   },
   "outputs": [],
   "source": [
    "knn=KNeighborsClassifier(n_neighbors=11)"
   ]
  },
  {
   "cell_type": "code",
   "execution_count": 23,
   "id": "b4c289fc",
   "metadata": {
    "execution": {
     "iopub.execute_input": "2025-01-30T11:34:17.428667Z",
     "iopub.status.busy": "2025-01-30T11:34:17.428297Z",
     "iopub.status.idle": "2025-01-30T11:34:17.436063Z",
     "shell.execute_reply": "2025-01-30T11:34:17.435161Z"
    },
    "papermill": {
     "duration": 0.018039,
     "end_time": "2025-01-30T11:34:17.437720",
     "exception": false,
     "start_time": "2025-01-30T11:34:17.419681",
     "status": "completed"
    },
    "tags": []
   },
   "outputs": [
    {
     "data": {
      "text/html": [
       "<style>#sk-container-id-2 {color: black;background-color: white;}#sk-container-id-2 pre{padding: 0;}#sk-container-id-2 div.sk-toggleable {background-color: white;}#sk-container-id-2 label.sk-toggleable__label {cursor: pointer;display: block;width: 100%;margin-bottom: 0;padding: 0.3em;box-sizing: border-box;text-align: center;}#sk-container-id-2 label.sk-toggleable__label-arrow:before {content: \"▸\";float: left;margin-right: 0.25em;color: #696969;}#sk-container-id-2 label.sk-toggleable__label-arrow:hover:before {color: black;}#sk-container-id-2 div.sk-estimator:hover label.sk-toggleable__label-arrow:before {color: black;}#sk-container-id-2 div.sk-toggleable__content {max-height: 0;max-width: 0;overflow: hidden;text-align: left;background-color: #f0f8ff;}#sk-container-id-2 div.sk-toggleable__content pre {margin: 0.2em;color: black;border-radius: 0.25em;background-color: #f0f8ff;}#sk-container-id-2 input.sk-toggleable__control:checked~div.sk-toggleable__content {max-height: 200px;max-width: 100%;overflow: auto;}#sk-container-id-2 input.sk-toggleable__control:checked~label.sk-toggleable__label-arrow:before {content: \"▾\";}#sk-container-id-2 div.sk-estimator input.sk-toggleable__control:checked~label.sk-toggleable__label {background-color: #d4ebff;}#sk-container-id-2 div.sk-label input.sk-toggleable__control:checked~label.sk-toggleable__label {background-color: #d4ebff;}#sk-container-id-2 input.sk-hidden--visually {border: 0;clip: rect(1px 1px 1px 1px);clip: rect(1px, 1px, 1px, 1px);height: 1px;margin: -1px;overflow: hidden;padding: 0;position: absolute;width: 1px;}#sk-container-id-2 div.sk-estimator {font-family: monospace;background-color: #f0f8ff;border: 1px dotted black;border-radius: 0.25em;box-sizing: border-box;margin-bottom: 0.5em;}#sk-container-id-2 div.sk-estimator:hover {background-color: #d4ebff;}#sk-container-id-2 div.sk-parallel-item::after {content: \"\";width: 100%;border-bottom: 1px solid gray;flex-grow: 1;}#sk-container-id-2 div.sk-label:hover label.sk-toggleable__label {background-color: #d4ebff;}#sk-container-id-2 div.sk-serial::before {content: \"\";position: absolute;border-left: 1px solid gray;box-sizing: border-box;top: 0;bottom: 0;left: 50%;z-index: 0;}#sk-container-id-2 div.sk-serial {display: flex;flex-direction: column;align-items: center;background-color: white;padding-right: 0.2em;padding-left: 0.2em;position: relative;}#sk-container-id-2 div.sk-item {position: relative;z-index: 1;}#sk-container-id-2 div.sk-parallel {display: flex;align-items: stretch;justify-content: center;background-color: white;position: relative;}#sk-container-id-2 div.sk-item::before, #sk-container-id-2 div.sk-parallel-item::before {content: \"\";position: absolute;border-left: 1px solid gray;box-sizing: border-box;top: 0;bottom: 0;left: 50%;z-index: -1;}#sk-container-id-2 div.sk-parallel-item {display: flex;flex-direction: column;z-index: 1;position: relative;background-color: white;}#sk-container-id-2 div.sk-parallel-item:first-child::after {align-self: flex-end;width: 50%;}#sk-container-id-2 div.sk-parallel-item:last-child::after {align-self: flex-start;width: 50%;}#sk-container-id-2 div.sk-parallel-item:only-child::after {width: 0;}#sk-container-id-2 div.sk-dashed-wrapped {border: 1px dashed gray;margin: 0 0.4em 0.5em 0.4em;box-sizing: border-box;padding-bottom: 0.4em;background-color: white;}#sk-container-id-2 div.sk-label label {font-family: monospace;font-weight: bold;display: inline-block;line-height: 1.2em;}#sk-container-id-2 div.sk-label-container {text-align: center;}#sk-container-id-2 div.sk-container {/* jupyter's `normalize.less` sets `[hidden] { display: none; }` but bootstrap.min.css set `[hidden] { display: none !important; }` so we also need the `!important` here to be able to override the default hidden behavior on the sphinx rendered scikit-learn.org. See: https://github.com/scikit-learn/scikit-learn/issues/21755 */display: inline-block !important;position: relative;}#sk-container-id-2 div.sk-text-repr-fallback {display: none;}</style><div id=\"sk-container-id-2\" class=\"sk-top-container\"><div class=\"sk-text-repr-fallback\"><pre>KNeighborsClassifier(n_neighbors=11)</pre><b>In a Jupyter environment, please rerun this cell to show the HTML representation or trust the notebook. <br />On GitHub, the HTML representation is unable to render, please try loading this page with nbviewer.org.</b></div><div class=\"sk-container\" hidden><div class=\"sk-item\"><div class=\"sk-estimator sk-toggleable\"><input class=\"sk-toggleable__control sk-hidden--visually\" id=\"sk-estimator-id-2\" type=\"checkbox\" checked><label for=\"sk-estimator-id-2\" class=\"sk-toggleable__label sk-toggleable__label-arrow\">KNeighborsClassifier</label><div class=\"sk-toggleable__content\"><pre>KNeighborsClassifier(n_neighbors=11)</pre></div></div></div></div></div>"
      ],
      "text/plain": [
       "KNeighborsClassifier(n_neighbors=11)"
      ]
     },
     "execution_count": 23,
     "metadata": {},
     "output_type": "execute_result"
    }
   ],
   "source": [
    "knn.fit(X_train, Y_train)"
   ]
  },
  {
   "cell_type": "code",
   "execution_count": 24,
   "id": "6db8afed",
   "metadata": {
    "execution": {
     "iopub.execute_input": "2025-01-30T11:34:17.455036Z",
     "iopub.status.busy": "2025-01-30T11:34:17.454652Z",
     "iopub.status.idle": "2025-01-30T11:34:17.469290Z",
     "shell.execute_reply": "2025-01-30T11:34:17.468189Z"
    },
    "papermill": {
     "duration": 0.025274,
     "end_time": "2025-01-30T11:34:17.471199",
     "exception": false,
     "start_time": "2025-01-30T11:34:17.445925",
     "status": "completed"
    },
    "tags": []
   },
   "outputs": [],
   "source": [
    "y_pred=knn.predict(x_test)"
   ]
  },
  {
   "cell_type": "code",
   "execution_count": 25,
   "id": "315015fb",
   "metadata": {
    "execution": {
     "iopub.execute_input": "2025-01-30T11:34:17.488333Z",
     "iopub.status.busy": "2025-01-30T11:34:17.487951Z",
     "iopub.status.idle": "2025-01-30T11:34:17.517811Z",
     "shell.execute_reply": "2025-01-30T11:34:17.516787Z"
    },
    "papermill": {
     "duration": 0.040376,
     "end_time": "2025-01-30T11:34:17.519629",
     "exception": false,
     "start_time": "2025-01-30T11:34:17.479253",
     "status": "completed"
    },
    "tags": []
   },
   "outputs": [
    {
     "data": {
      "text/plain": [
       "0.9342723004694836"
      ]
     },
     "execution_count": 25,
     "metadata": {},
     "output_type": "execute_result"
    }
   ],
   "source": [
    "knn.score(X_train, Y_train)"
   ]
  },
  {
   "cell_type": "code",
   "execution_count": 26,
   "id": "021c1e24",
   "metadata": {
    "execution": {
     "iopub.execute_input": "2025-01-30T11:34:17.537162Z",
     "iopub.status.busy": "2025-01-30T11:34:17.536745Z",
     "iopub.status.idle": "2025-01-30T11:34:17.554013Z",
     "shell.execute_reply": "2025-01-30T11:34:17.553015Z"
    },
    "papermill": {
     "duration": 0.028044,
     "end_time": "2025-01-30T11:34:17.555821",
     "exception": false,
     "start_time": "2025-01-30T11:34:17.527777",
     "status": "completed"
    },
    "tags": []
   },
   "outputs": [
    {
     "data": {
      "text/plain": [
       "0.9790209790209791"
      ]
     },
     "execution_count": 26,
     "metadata": {},
     "output_type": "execute_result"
    }
   ],
   "source": [
    "knn.score(x_test,y_test)"
   ]
  }
 ],
 "metadata": {
  "kaggle": {
   "accelerator": "none",
   "dataSources": [
    {
     "datasetId": 6568043,
     "sourceId": 10609576,
     "sourceType": "datasetVersion"
    }
   ],
   "dockerImageVersionId": 30839,
   "isGpuEnabled": false,
   "isInternetEnabled": false,
   "language": "python",
   "sourceType": "notebook"
  },
  "kernelspec": {
   "display_name": "Python 3",
   "language": "python",
   "name": "python3"
  },
  "language_info": {
   "codemirror_mode": {
    "name": "ipython",
    "version": 3
   },
   "file_extension": ".py",
   "mimetype": "text/x-python",
   "name": "python",
   "nbconvert_exporter": "python",
   "pygments_lexer": "ipython3",
   "version": "3.10.12"
  },
  "papermill": {
   "default_parameters": {},
   "duration": 8.462308,
   "end_time": "2025-01-30T11:34:18.284974",
   "environment_variables": {},
   "exception": null,
   "input_path": "__notebook__.ipynb",
   "output_path": "__notebook__.ipynb",
   "parameters": {},
   "start_time": "2025-01-30T11:34:09.822666",
   "version": "2.6.0"
  }
 },
 "nbformat": 4,
 "nbformat_minor": 5
}
